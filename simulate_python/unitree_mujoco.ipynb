{
 "cells": [
  {
   "cell_type": "markdown",
   "id": "922fc3c9-86d9-4e8c-9dff-7d359d6ce7af",
   "metadata": {},
   "source": [
    "# Unitree robot replay RL results"
   ]
  },
  {
   "cell_type": "code",
   "execution_count": 2,
   "id": "3f8124e8-6870-4075-ba2a-67507f6c726f",
   "metadata": {
    "trusted": true
   },
   "outputs": [
    {
     "name": "stdout",
     "output_type": "stream",
     "text": [
      "Cloning into 'unitree_rl_gym'...\n",
      "remote: Enumerating objects: 598, done.\u001b[K\n",
      "remote: Counting objects: 100% (198/198), done.\u001b[K\n",
      "remote: Compressing objects: 100% (107/107), done.\u001b[K\n",
      "remote: Total 598 (delta 123), reused 91 (delta 91), pack-reused 400 (from 1)\u001b[K\n",
      "Receiving objects: 100% (598/598), 56.89 MiB | 43.48 MiB/s, done.\n",
      "Resolving deltas: 100% (189/189), done.\n"
     ]
    }
   ],
   "source": [
    "!cd ~ && git clone https://github.com/unitreerobotics/unitree_rl_gym.git"
   ]
  },
  {
   "cell_type": "code",
   "execution_count": 1,
   "id": "85f7653f-44fe-4ef3-bac6-9b57040f66a9",
   "metadata": {
    "trusted": true
   },
   "outputs": [],
   "source": [
    "from utils import display_desktop\n",
    "display_desktop()"
   ]
  },
  {
   "cell_type": "code",
   "execution_count": 2,
   "id": "ee7ab068-726b-4773-97ce-48e00eeab1a1",
   "metadata": {
    "trusted": true
   },
   "outputs": [],
   "source": [
    "import time\n",
    "\n",
    "import mujoco.viewer\n",
    "import mujoco\n",
    "import numpy as np\n",
    "# from legged_gym import LEGGED_GYM_ROOT_DIR\n",
    "import torch\n",
    "import yaml\n",
    "\n",
    "if torch.cuda.is_available():\n",
    "    print(torch.cuda.current_device())\n",
    "    print(torch.cuda.get_device_name(0))\n",
    "\n",
    "LEGGED_GYM_ROOT_DIR = \"/home/jovyan/unitree_rl_gym\""
   ]
  },
  {
   "cell_type": "code",
   "execution_count": 3,
   "id": "908d32c7-a7f8-4d91-97a0-7ba47270665f",
   "metadata": {
    "trusted": true
   },
   "outputs": [],
   "source": [
    "def get_gravity_orientation(quaternion):\n",
    "    qw = quaternion[0]\n",
    "    qx = quaternion[1]\n",
    "    qy = quaternion[2]\n",
    "    qz = quaternion[3]\n",
    "\n",
    "    gravity_orientation = np.zeros(3)\n",
    "\n",
    "    gravity_orientation[0] = 2 * (-qz * qx + qw * qy)\n",
    "    gravity_orientation[1] = -2 * (qz * qy + qw * qx)\n",
    "    gravity_orientation[2] = 1 - 2 * (qw * qw + qz * qz)\n",
    "\n",
    "    return gravity_orientation\n",
    "\n",
    "\n",
    "def pd_control(target_q, q, kp, target_dq, dq, kd):\n",
    "    \"\"\"Calculates torques from position commands\"\"\"\n",
    "    return (target_q - q) * kp + (target_dq - dq) * kd"
   ]
  },
  {
   "cell_type": "code",
   "execution_count": 4,
   "id": "67ea2aad-b873-4844-8dc3-88556cca3114",
   "metadata": {
    "trusted": true
   },
   "outputs": [],
   "source": [
    "config_file = 'h1.yaml'\n",
    "# config_file = 'h1_2.yaml'\n",
    "# config_file = 'g1.yaml'\n",
    "\n",
    "with open(f\"{LEGGED_GYM_ROOT_DIR}/deploy/deploy_mujoco/configs/{config_file}\", \"r\") as f:\n",
    "    config = yaml.load(f, Loader=yaml.FullLoader)\n",
    "    policy_path = config[\"policy_path\"].replace(\"{LEGGED_GYM_ROOT_DIR}\", LEGGED_GYM_ROOT_DIR)\n",
    "    xml_path = config[\"xml_path\"].replace(\"{LEGGED_GYM_ROOT_DIR}\", LEGGED_GYM_ROOT_DIR)\n",
    "\n",
    "    simulation_duration = config[\"simulation_duration\"]\n",
    "    simulation_dt = config[\"simulation_dt\"]\n",
    "    control_decimation = config[\"control_decimation\"]\n",
    "\n",
    "    kps = np.array(config[\"kps\"], dtype=np.float32)\n",
    "    kds = np.array(config[\"kds\"], dtype=np.float32)\n",
    "\n",
    "    default_angles = np.array(config[\"default_angles\"], dtype=np.float32)\n",
    "\n",
    "    ang_vel_scale = config[\"ang_vel_scale\"]\n",
    "    dof_pos_scale = config[\"dof_pos_scale\"]\n",
    "    dof_vel_scale = config[\"dof_vel_scale\"]\n",
    "    action_scale = config[\"action_scale\"]\n",
    "    cmd_scale = np.array(config[\"cmd_scale\"], dtype=np.float32)\n",
    "\n",
    "    num_actions = config[\"num_actions\"]\n",
    "    num_obs = config[\"num_obs\"]\n",
    "    \n",
    "    cmd = np.array(config[\"cmd_init\"], dtype=np.float32)"
   ]
  },
  {
   "cell_type": "code",
   "execution_count": 5,
   "id": "ea36c4eb-7b97-4383-afec-c1d3418f7d76",
   "metadata": {
    "trusted": true
   },
   "outputs": [
    {
     "data": {
      "text/plain": [
       "{'policy_path': '{LEGGED_GYM_ROOT_DIR}/deploy/pre_train/h1/motion.pt',\n",
       " 'xml_path': '{LEGGED_GYM_ROOT_DIR}/resources/robots/h1/scene.xml',\n",
       " 'simulation_duration': 60.0,\n",
       " 'simulation_dt': 0.002,\n",
       " 'control_decimation': 10,\n",
       " 'kps': [150, 150, 150, 200, 40, 150, 150, 150, 200, 40],\n",
       " 'kds': [2, 2, 2, 4, 2, 2, 2, 2, 4, 2],\n",
       " 'default_angles': [0, 0.0, -0.1, 0.3, -0.2, 0, 0.0, -0.1, 0.3, -0.2],\n",
       " 'ang_vel_scale': 0.25,\n",
       " 'dof_pos_scale': 1.0,\n",
       " 'dof_vel_scale': 0.05,\n",
       " 'action_scale': 0.25,\n",
       " 'cmd_scale': [2.0, 2.0, 0.25],\n",
       " 'num_actions': 10,\n",
       " 'num_obs': 41,\n",
       " 'cmd_init': [0.5, 0, 0]}"
      ]
     },
     "execution_count": 5,
     "metadata": {},
     "output_type": "execute_result"
    }
   ],
   "source": [
    "config"
   ]
  },
  {
   "cell_type": "code",
   "execution_count": 6,
   "id": "c7e22a6c-fe1d-44f8-aef1-15c55b333506",
   "metadata": {
    "trusted": true
   },
   "outputs": [],
   "source": [
    "# define context variables\n",
    "action = np.zeros(num_actions, dtype=np.float32)\n",
    "target_dof_pos = default_angles.copy()\n",
    "obs = np.zeros(num_obs, dtype=np.float32)\n",
    "\n",
    "counter = 0\n",
    "\n",
    "# Load robot model\n",
    "m = mujoco.MjModel.from_xml_path(xml_path)\n",
    "d = mujoco.MjData(m)\n",
    "m.opt.timestep = simulation_dt"
   ]
  },
  {
   "cell_type": "code",
   "execution_count": 7,
   "id": "7d3bb788-1291-463b-9993-2ad56f8df8ae",
   "metadata": {
    "trusted": true
   },
   "outputs": [],
   "source": [
    "# load policy\n",
    "policy = torch.jit.load(policy_path)"
   ]
  },
  {
   "cell_type": "code",
   "execution_count": null,
   "id": "812f48d3-5b70-43a5-a90e-bedbde7c779b",
   "metadata": {
    "scrolled": true,
    "trusted": true
   },
   "outputs": [],
   "source": [
    "with mujoco.viewer.launch_passive(m, d) as viewer:\n",
    "    # Close the viewer automatically after simulation_duration wall-seconds.\n",
    "    start = time.time()\n",
    "    while viewer.is_running() and time.time() - start < simulation_duration:\n",
    "        step_start = time.time()\n",
    "        tau = pd_control(target_dof_pos, d.qpos[7:], kps, np.zeros_like(kds), d.qvel[6:], kds)\n",
    "        d.ctrl[:] = tau\n",
    "        # mj_step can be replaced with code that also evaluates\n",
    "        # a policy and applies a control signal before stepping the physics.\n",
    "        mujoco.mj_step(m, d)\n",
    "\n",
    "        counter += 1\n",
    "        if counter % control_decimation == 0:\n",
    "            # Apply control signal here.\n",
    "\n",
    "            # create observation\n",
    "            qj = d.qpos[7:]\n",
    "            dqj = d.qvel[6:]\n",
    "            quat = d.qpos[3:7]\n",
    "            omega = d.qvel[3:6]\n",
    "\n",
    "            qj = (qj - default_angles) * dof_pos_scale\n",
    "            dqj = dqj * dof_vel_scale\n",
    "            gravity_orientation = get_gravity_orientation(quat)\n",
    "            omega = omega * ang_vel_scale\n",
    "\n",
    "            period = 0.8\n",
    "            count = counter * simulation_dt\n",
    "            phase = count % period / period\n",
    "            sin_phase = np.sin(2 * np.pi * phase)\n",
    "            cos_phase = np.cos(2 * np.pi * phase)\n",
    "\n",
    "            obs[:3] = omega\n",
    "            obs[3:6] = gravity_orientation\n",
    "            obs[6:9] = cmd * cmd_scale\n",
    "            obs[9 : 9 + num_actions] = qj\n",
    "            obs[9 + num_actions : 9 + 2 * num_actions] = dqj\n",
    "            obs[9 + 2 * num_actions : 9 + 3 * num_actions] = action\n",
    "            obs[9 + 3 * num_actions : 9 + 3 * num_actions + 2] = np.array([sin_phase, cos_phase])\n",
    "            obs_tensor = torch.from_numpy(obs).unsqueeze(0)\n",
    "            # policy inference\n",
    "            action = policy(obs_tensor).detach().numpy().squeeze()\n",
    "            # transform action to target_dof_pos\n",
    "            target_dof_pos = action * action_scale + default_angles\n",
    "\n",
    "        # Pick up changes to the physics state, apply perturbations, update options from GUI.\n",
    "        viewer.sync()\n",
    "\n",
    "        # Rudimentary time keeping, will drift relative to wall clock.\n",
    "        time_until_next_step = m.opt.timestep - (time.time() - step_start)\n",
    "        if time_until_next_step > 0:\n",
    "            time.sleep(time_until_next_step)"
   ]
  },
  {
   "cell_type": "code",
   "execution_count": null,
   "id": "72e94a04-6d51-4a6e-89c7-626f291a924c",
   "metadata": {
    "trusted": true
   },
   "outputs": [],
   "source": []
  }
 ],
 "metadata": {
  "kernelspec": {
   "display_name": "Python 3 (ipykernel)",
   "language": "python",
   "name": "python3"
  },
  "language_info": {
   "codemirror_mode": {
    "name": "ipython",
    "version": 3
   },
   "file_extension": ".py",
   "mimetype": "text/x-python",
   "name": "python",
   "nbconvert_exporter": "python",
   "pygments_lexer": "ipython3",
   "version": "3.10.11"
  }
 },
 "nbformat": 4,
 "nbformat_minor": 5
}
