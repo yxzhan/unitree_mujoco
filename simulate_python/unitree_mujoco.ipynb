{
 "cells": [
  {
   "cell_type": "markdown",
   "id": "396ae36f-6db4-4726-92cc-9362a93668e1",
   "metadata": {},
   "source": [
    "# Unitree Mujoco demo\n",
    "\n"
   ]
  },
  {
   "cell_type": "markdown",
   "id": "0752dabe-b38e-45c0-a0ae-38a3f1c7f0dd",
   "metadata": {},
   "source": [
    "## Open virtual display"
   ]
  },
  {
   "cell_type": "code",
   "execution_count": null,
   "id": "35b5d47a-85b4-4570-b95e-3405913b28a5",
   "metadata": {
    "trusted": true
   },
   "outputs": [],
   "source": [
    "from utils import display_desktop\n",
    "display_desktop()"
   ]
  },
  {
   "cell_type": "markdown",
   "id": "49c5cdc5-4c6c-49c5-8542-b95f8489aefe",
   "metadata": {},
   "source": [
    "## Set parameters"
   ]
  },
  {
   "cell_type": "code",
   "execution_count": null,
   "id": "7febc5ed-410b-45ea-82c9-803e8ec6c40f",
   "metadata": {
    "trusted": true
   },
   "outputs": [],
   "source": [
    "import config\n",
    "\n",
    "config.ROBOT = \"go2\" # Robot name, \"go2\", \"b2\", \"b2w\", \"h1\", \"go2w\", \"g1\" \n",
    "config.ROBOT_SCENE = \"../unitree_robots/\" + config.ROBOT + \"/scene_terrain.xml\" # Robot scene\n",
    "config.USE_JOYSTICK = 0 # Simulate Unitree WirelessController using a gamepad"
   ]
  },
  {
   "cell_type": "markdown",
   "id": "80507048-b8db-4070-a848-61246f9fa28c",
   "metadata": {},
   "source": [
    "## Start Mujoco Simulation"
   ]
  },
  {
   "cell_type": "code",
   "execution_count": null,
   "id": "ab055ef1-1512-47a9-8b01-5bfd22ee3891",
   "metadata": {
    "scrolled": true,
    "trusted": true
   },
   "outputs": [
    {
     "name": "stdout",
     "output_type": "stream",
     "text": [
      "pygame 2.6.1 (SDL 2.28.4, Python 3.10.11)\n",
      "Hello from the pygame community. https://www.pygame.org/contribute.html\n"
     ]
    },
    {
     "name": "stderr",
     "output_type": "stream",
     "text": [
      "1741881585.297482 [1]     python: selected interface \"lo\" is not multicast-capable: disabling multicast\n"
     ]
    },
    {
     "name": "stdout",
     "output_type": "stream",
     "text": [
      " \n",
      "<<------------- Link ------------->> \n",
      "link_index: 0 , name: world\n",
      "link_index: 1 , name: base_link\n",
      "link_index: 2 , name: FL_hip\n",
      "link_index: 3 , name: FL_thigh\n",
      "link_index: 4 , name: FL_calf\n",
      "link_index: 5 , name: FL_foot\n",
      "link_index: 6 , name: FR_hip\n",
      "link_index: 7 , name: FR_thigh\n",
      "link_index: 8 , name: FR_calf\n",
      "link_index: 9 , name: FR_foot\n",
      "link_index: 10 , name: RL_hip\n",
      "link_index: 11 , name: RL_thigh\n",
      "link_index: 12 , name: RL_calf\n",
      "link_index: 13 , name: RL_foot\n",
      "link_index: 14 , name: RR_hip\n",
      "link_index: 15 , name: RR_thigh\n",
      "link_index: 16 , name: RR_calf\n",
      "link_index: 17 , name: RR_foot\n",
      " \n",
      "<<------------- Joint ------------->> \n",
      "joint_index: 1 , name: FL_hip_joint\n",
      "joint_index: 2 , name: FL_thigh_joint\n",
      "joint_index: 3 , name: FL_calf_joint\n",
      "joint_index: 4 , name: FR_hip_joint\n",
      "joint_index: 5 , name: FR_thigh_joint\n",
      "joint_index: 6 , name: FR_calf_joint\n",
      "joint_index: 7 , name: RL_hip_joint\n",
      "joint_index: 8 , name: RL_thigh_joint\n",
      "joint_index: 9 , name: RL_calf_joint\n",
      "joint_index: 10 , name: RR_hip_joint\n",
      "joint_index: 11 , name: RR_thigh_joint\n",
      "joint_index: 12 , name: RR_calf_joint\n",
      " \n",
      "<<------------- Actuator ------------->>\n",
      "actuator_index: 0 , name: FR_hip\n",
      "actuator_index: 1 , name: FR_thigh\n",
      "actuator_index: 2 , name: FR_calf\n",
      "actuator_index: 3 , name: FL_hip\n",
      "actuator_index: 4 , name: FL_thigh\n",
      "actuator_index: 5 , name: FL_calf\n",
      "actuator_index: 6 , name: RR_hip\n",
      "actuator_index: 7 , name: RR_thigh\n",
      "actuator_index: 8 , name: RR_calf\n",
      "actuator_index: 9 , name: RL_hip\n",
      "actuator_index: 10 , name: RL_thigh\n",
      "actuator_index: 11 , name: RL_calf\n",
      " \n",
      "<<------------- Sensor ------------->>\n",
      "sensor_index: 0 , name: FR_hip_pos , dim: 1\n",
      "sensor_index: 1 , name: FR_thigh_pos , dim: 1\n",
      "sensor_index: 2 , name: FR_calf_pos , dim: 1\n",
      "sensor_index: 3 , name: FL_hip_pos , dim: 1\n",
      "sensor_index: 4 , name: FL_thigh_pos , dim: 1\n",
      "sensor_index: 5 , name: FL_calf_pos , dim: 1\n",
      "sensor_index: 6 , name: RR_hip_pos , dim: 1\n",
      "sensor_index: 7 , name: RR_thigh_pos , dim: 1\n",
      "sensor_index: 8 , name: RR_calf_pos , dim: 1\n",
      "sensor_index: 9 , name: RL_hip_pos , dim: 1\n",
      "sensor_index: 10 , name: RL_thigh_pos , dim: 1\n",
      "sensor_index: 11 , name: RL_calf_pos , dim: 1\n",
      "sensor_index: 12 , name: FR_hip_vel , dim: 1\n",
      "sensor_index: 13 , name: FR_thigh_vel , dim: 1\n",
      "sensor_index: 14 , name: FR_calf_vel , dim: 1\n",
      "sensor_index: 15 , name: FL_hip_vel , dim: 1\n",
      "sensor_index: 16 , name: FL_thigh_vel , dim: 1\n",
      "sensor_index: 17 , name: FL_calf_vel , dim: 1\n",
      "sensor_index: 18 , name: RR_hip_vel , dim: 1\n",
      "sensor_index: 19 , name: RR_thigh_vel , dim: 1\n",
      "sensor_index: 20 , name: RR_calf_vel , dim: 1\n",
      "sensor_index: 21 , name: RL_hip_vel , dim: 1\n",
      "sensor_index: 22 , name: RL_thigh_vel , dim: 1\n",
      "sensor_index: 23 , name: RL_calf_vel , dim: 1\n",
      "sensor_index: 24 , name: FR_hip_torque , dim: 1\n",
      "sensor_index: 25 , name: FR_thigh_torque , dim: 1\n",
      "sensor_index: 26 , name: FR_calf_torque , dim: 1\n",
      "sensor_index: 27 , name: FL_hip_torque , dim: 1\n",
      "sensor_index: 28 , name: FL_thigh_torque , dim: 1\n",
      "sensor_index: 29 , name: FL_calf_torque , dim: 1\n",
      "sensor_index: 30 , name: RR_hip_torque , dim: 1\n",
      "sensor_index: 31 , name: RR_thigh_torque , dim: 1\n",
      "sensor_index: 32 , name: RR_calf_torque , dim: 1\n",
      "sensor_index: 33 , name: RL_hip_torque , dim: 1\n",
      "sensor_index: 34 , name: RL_thigh_torque , dim: 1\n",
      "sensor_index: 35 , name: RL_calf_torque , dim: 1\n",
      "sensor_index: 36 , name: imu_quat , dim: 4\n",
      "sensor_index: 40 , name: imu_gyro , dim: 3\n",
      "sensor_index: 43 , name: imu_acc , dim: 3\n",
      "sensor_index: 46 , name: frame_pos , dim: 3\n",
      "sensor_index: 49 , name: frame_vel , dim: 3\n",
      " \n"
     ]
    }
   ],
   "source": [
    "from threading import Thread\n",
    "\n",
    "from unitree_mujoco import PhysicsViewerThread, SimulationThread\n",
    "\n",
    "viewer_thread = Thread(target=PhysicsViewerThread)\n",
    "sim_thread = Thread(target=SimulationThread)\n",
    "\n",
    "viewer_thread.start()\n",
    "sim_thread.start()"
   ]
  },
  {
   "cell_type": "markdown",
   "id": "5f689934-4cbc-4157-8a82-de812e262332",
   "metadata": {},
   "source": [
    "## Go2 Stand up and down"
   ]
  },
  {
   "cell_type": "code",
   "execution_count": null,
   "id": "15e3b7f3-4814-409b-b353-a1c2f2b7d122",
   "metadata": {
    "trusted": true
   },
   "outputs": [],
   "source": [
    "import time\n",
    "import sys\n",
    "import numpy as np\n",
    "\n",
    "from unitree_sdk2py.core.channel import ChannelPublisher, ChannelSubscriber\n",
    "from unitree_sdk2py.core.channel import ChannelFactoryInitialize\n",
    "from unitree_sdk2py.idl.default import unitree_go_msg_dds__LowCmd_\n",
    "from unitree_sdk2py.idl.unitree_go.msg.dds_ import LowCmd_\n",
    "from unitree_sdk2py.utils.crc import CRC\n",
    "\n",
    "stand_up_joint_pos = np.array([\n",
    "    0.00571868, 0.608813, -1.21763, -0.00571868, 0.608813, -1.21763,\n",
    "    0.00571868, 0.608813, -1.21763, -0.00571868, 0.608813, -1.21763\n",
    "],\n",
    "                              dtype=float)\n",
    "\n",
    "stand_down_joint_pos = np.array([\n",
    "    0.0473455, 1.22187, -2.44375, -0.0473455, 1.22187, -2.44375, 0.0473455,\n",
    "    1.22187, -2.44375, -0.0473455, 1.22187, -2.44375\n",
    "],\n",
    "                                dtype=float)\n",
    "\n",
    "dt = 0.002\n",
    "runing_time = 0.0\n",
    "crc = CRC()\n",
    "\n",
    "\n",
    "# Create a publisher to publish the data defined in UserData class\n",
    "pub = ChannelPublisher(\"rt/lowcmd\", LowCmd_)\n",
    "pub.Init()\n",
    "\n",
    "cmd = unitree_go_msg_dds__LowCmd_()\n",
    "cmd.head[0] = 0xFE\n",
    "cmd.head[1] = 0xEF\n",
    "cmd.level_flag = 0xFF\n",
    "cmd.gpio = 0\n",
    "for i in range(20):\n",
    "    cmd.motor_cmd[i].mode = 0x01  # (PMSM) mode\n",
    "    cmd.motor_cmd[i].q = 0.0\n",
    "    cmd.motor_cmd[i].kp = 0.0\n",
    "    cmd.motor_cmd[i].dq = 0.0\n",
    "    cmd.motor_cmd[i].kd = 0.0\n",
    "    cmd.motor_cmd[i].tau = 0.0\n",
    "\n",
    "while True:\n",
    "    step_start = time.perf_counter()\n",
    "    \n",
    "    runing_time += dt\n",
    "    # Stop after 10 seconds\n",
    "    if (runing_time > 10.0):\n",
    "        break\n",
    "    if (runing_time < 3.0):\n",
    "        # Stand up in first 3 second\n",
    "        \n",
    "        # Total time for standing up or standing down is about 1.2s\n",
    "        phase = np.tanh(runing_time / 1.2)\n",
    "        for i in range(12):\n",
    "            cmd.motor_cmd[i].q = phase * stand_up_joint_pos[i] + (\n",
    "                1 - phase) * stand_down_joint_pos[i]\n",
    "            cmd.motor_cmd[i].kp = phase * 50.0 + (1 - phase) * 20.0\n",
    "            cmd.motor_cmd[i].dq = 0.0\n",
    "            cmd.motor_cmd[i].kd = 3.5\n",
    "            cmd.motor_cmd[i].tau = 0.0\n",
    "    else:\n",
    "        # Then stand down\n",
    "        phase = np.tanh((runing_time - 3.0) / 1.2)\n",
    "        for i in range(12):\n",
    "            cmd.motor_cmd[i].q = phase * stand_down_joint_pos[i] + (\n",
    "                1 - phase) * stand_up_joint_pos[i]\n",
    "            cmd.motor_cmd[i].kp = 50.0\n",
    "            cmd.motor_cmd[i].dq = 0.0\n",
    "            cmd.motor_cmd[i].kd = 3.5\n",
    "            cmd.motor_cmd[i].tau = 0.0\n",
    "    \n",
    "    cmd.crc = crc.Crc(cmd)\n",
    "    pub.Write(cmd)\n",
    "    time_until_next_step = dt - (time.perf_counter() - step_start)\n",
    "    if time_until_next_step > 0:\n",
    "        time.sleep(time_until_next_step)\n"
   ]
  },
  {
   "cell_type": "code",
   "execution_count": null,
   "id": "4e86e7c7-6f6d-492f-8aa5-9b7831884dd7",
   "metadata": {
    "trusted": true
   },
   "outputs": [],
   "source": []
  }
 ],
 "metadata": {
  "kernelspec": {
   "display_name": "Python 3 (ipykernel)",
   "language": "python",
   "name": "python3"
  },
  "language_info": {
   "codemirror_mode": {
    "name": "ipython",
    "version": 3
   },
   "file_extension": ".py",
   "mimetype": "text/x-python",
   "name": "python",
   "nbconvert_exporter": "python",
   "pygments_lexer": "ipython3",
   "version": "3.10.11"
  }
 },
 "nbformat": 4,
 "nbformat_minor": 5
}
